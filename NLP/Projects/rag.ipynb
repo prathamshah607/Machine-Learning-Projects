{
 "cells": [
  {
   "cell_type": "markdown",
   "id": "af7cf541",
   "metadata": {},
   "source": [
    "# Simple Wikipedia based RAG Model\n",
    "\n",
    "Scrapes Wikipedia for context used to tailor answers by a small LLM. Fit to run on CPUs/mobiles.\n",
    "\n",
    "Built by Pratham Shah."
   ]
  },
  {
   "cell_type": "code",
   "execution_count": null,
   "id": "adf3c84a",
   "metadata": {},
   "outputs": [],
   "source": [
    "import stanza\n",
    "import requests\n",
    "from langchain.vectorstores import FAISS\n",
    "from langchain.embeddings import SentenceTransformerEmbeddings\n",
    "from langchain.chains import ConversationalRetrievalChain\n",
    "from langchain.memory import ConversationBufferMemory\n",
    "from langchain.schema import Document\n",
    "from langchain.text_splitter import CharacterTextSplitter\n",
    "from langchain_community.llms import Ollama\n",
    "\n",
    "# setup stanza pipeline\n",
    "stanza.download('en', verbose=False)\n",
    "nlp = stanza.Pipeline('en', processors='tokenize,ner')\n"
   ]
  },
  {
   "cell_type": "code",
   "execution_count": null,
   "id": "98f175e2",
   "metadata": {},
   "outputs": [],
   "source": [
    "#using POS tagging to identify core title of sentnece\n",
    "def get_focus(text):\n",
    "    doc = nlp(text)\n",
    "    entities = [ent.text for ent in doc.ents if ent.type in ('PERSON', 'ORG', 'LOC', 'MISC', 'EVENT', 'WORK_OF_ART')]\n",
    "    return entities or [text]\n",
    "\n",
    "#get relevant wikipedia content about that title\n",
    "def search(query, limit=3):\n",
    "    url = \"https://en.wikipedia.org/w/api.php\"\n",
    "    params = {\n",
    "        'action': 'query',\n",
    "        'list': 'search',\n",
    "        'srsearch': query,\n",
    "        'format': 'json',\n",
    "        'srlimit': limit\n",
    "    }\n",
    "    resp = requests.get(url, params=params).json()\n",
    "    return [item['title'] for item in resp['query']['search']]\n",
    "\n",
    "#get extracts from that title\n",
    "def wikipedia_content(title):\n",
    "    url = \"https://en.wikipedia.org/w/api.php\"\n",
    "    params = {\n",
    "        'action': 'query',\n",
    "        'prop': 'extracts',\n",
    "        'explaintext': True,\n",
    "        'titles': title,\n",
    "        'format': 'json'\n",
    "    }\n",
    "    resp = requests.get(url, params=params).json()\n",
    "    pages = resp['query']['pages']\n",
    "    page = next(iter(pages.values()))\n",
    "    return page.get('extract', '')\n"
   ]
  },
  {
   "cell_type": "code",
   "execution_count": null,
   "id": "ad9ea0ea",
   "metadata": {},
   "outputs": [],
   "source": [
    "#gets and splits wikipedia data into chunks\n",
    "def get_docs_for_query(query):\n",
    "    entities = get_focus(query)\n",
    "    docs = []\n",
    "    splitter = CharacterTextSplitter(chunk_size=2000, chunk_overlap=300)\n",
    "    for entity in entities:\n",
    "        for title in search(entity):\n",
    "            content = wikipedia_content(title)\n",
    "            if content:\n",
    "                for chunk in splitter.split_text(content):\n",
    "                    docs.append(Document(page_content=chunk, metadata={\"source\": title}))\n",
    "    return docs\n",
    "\n",
    "#FAISS index for each chunk\n",
    "def build_faiss_index(documents):\n",
    "    embeddings = SentenceTransformerEmbeddings(model_name=\"all-MiniLM-L6-v2\")\n",
    "    return FAISS.from_documents(documents, embeddings)\n"
   ]
  },
  {
   "cell_type": "code",
   "execution_count": null,
   "id": "7452c663",
   "metadata": {},
   "outputs": [],
   "source": [
    "#fetches knowledge on each query to update chunks and FAISS\n",
    "def update_vectorstore(chain, query):\n",
    "    docs = get_docs_for_query(query)\n",
    "    if docs:\n",
    "        vectorstore = build_faiss_index(docs)\n",
    "        chain.retriever = vectorstore.as_retriever(search_kwargs={\"k\": 3})\n",
    "    return chain, docs\n"
   ]
  },
  {
   "cell_type": "code",
   "execution_count": null,
   "id": "921256f5",
   "metadata": {},
   "outputs": [],
   "source": [
    "def input_q(query):\n",
    "    #get docs from wikipedia\n",
    "    docs = get_docs_for_query(query)\n",
    "    \n",
    "    if not docs:\n",
    "        print(\"No documents found.\")\n",
    "        return\n",
    "\n",
    "    # build FAISS index\n",
    "    embeddings = SentenceTransformerEmbeddings(model_name=\"all-MiniLM-L6-v2\")\n",
    "    vectorstore = FAISS.from_documents(docs, embeddings)\n",
    "    retriever = vectorstore.as_retriever(search_kwargs={\"k\": 3})\n",
    "    \n",
    "    # run model\n",
    "    llm = Ollama(model=\"phi3\")\n",
    "    context_docs = retriever.invoke(query)\n",
    "    context_text = \"\\n\\n\".join([doc.page_content for doc in context_docs])\n",
    "\n",
    "    prompt = f\"Answer this question based only on the context below:\\n\\nContext:\\n{context_text}\\n\\nQuestion: {query}\"\n",
    "    answer = llm.invoke(prompt)\n",
    "\n",
    "    # output\n",
    "    print(\"\\n=============== Answer:\\n\", answer)\n",
    "    print(\"=============== Top Sources:\")\n",
    "    for doc in context_docs:\n",
    "        print(f\"- {doc.metadata['source']}\")\n",
    "    print(context_text)\n"
   ]
  },
  {
   "cell_type": "code",
   "execution_count": 12,
   "id": "9a23a2b7",
   "metadata": {},
   "outputs": [
    {
     "name": "stderr",
     "output_type": "stream",
     "text": [
      "Created a chunk of size 3448, which is longer than the specified 2000\n",
      "Created a chunk of size 2158, which is longer than the specified 2000\n",
      "Created a chunk of size 2293, which is longer than the specified 2000\n",
      "Created a chunk of size 2312, which is longer than the specified 2000\n",
      "Created a chunk of size 2142, which is longer than the specified 2000\n",
      "Created a chunk of size 3713, which is longer than the specified 2000\n",
      "Created a chunk of size 2368, which is longer than the specified 2000\n",
      "Created a chunk of size 2494, which is longer than the specified 2000\n",
      "Created a chunk of size 2724, which is longer than the specified 2000\n",
      "Created a chunk of size 2244, which is longer than the specified 2000\n",
      "Created a chunk of size 2793, which is longer than the specified 2000\n",
      "Created a chunk of size 2096, which is longer than the specified 2000\n",
      "Created a chunk of size 2452, which is longer than the specified 2000\n",
      "Created a chunk of size 2092, which is longer than the specified 2000\n",
      "Created a chunk of size 3990, which is longer than the specified 2000\n",
      "Created a chunk of size 2628, which is longer than the specified 2000\n",
      "Created a chunk of size 2709, which is longer than the specified 2000\n",
      "Created a chunk of size 2818, which is longer than the specified 2000\n",
      "Created a chunk of size 3007, which is longer than the specified 2000\n",
      "Created a chunk of size 2034, which is longer than the specified 2000\n",
      "Created a chunk of size 3698, which is longer than the specified 2000\n",
      "Created a chunk of size 3136, which is longer than the specified 2000\n",
      "Created a chunk of size 2332, which is longer than the specified 2000\n",
      "Created a chunk of size 2058, which is longer than the specified 2000\n",
      "Created a chunk of size 3108, which is longer than the specified 2000\n",
      "Created a chunk of size 2603, which is longer than the specified 2000\n",
      "Created a chunk of size 3655, which is longer than the specified 2000\n",
      "Created a chunk of size 2015, which is longer than the specified 2000\n",
      "Created a chunk of size 2353, which is longer than the specified 2000\n",
      "Created a chunk of size 2794, which is longer than the specified 2000\n"
     ]
    },
    {
     "name": "stdout",
     "output_type": "stream",
     "text": [
      "\n",
      "=============== Answer:\n",
      " The borough-wide total land area of New York City amounts to approximately 302.6 square miles (784 km²). This includes all five boroughs combined, with each one coextensive with its respective county in terms of administrative boundaries within the city's municipal limits.\n",
      "=============== Top Sources:\n",
      "- New York City\n",
      "- Brooklyn\n",
      "- New York City\n",
      "New York, often called New York City (NYC), is the most populous city in the United States. It is located at the southern tip of New York State on one of the world's largest natural harbors. The city comprises five boroughs, each coextensive with its respective county. The city is the geographical and demographic center of both the Northeast megalopolis and the New York metropolitan area, the largest metropolitan area in the United States by both population and urban area. New York is a global center of finance and commerce, culture, technology, entertainment and media, academics and scientific output, the arts and fashion, and, as home to the headquarters of the United Nations, international diplomacy.\n",
      "With an estimated population in July 2024 of 8,478,072, distributed over 300.46 square miles (778.2 km2), the city is the most densely populated major city in the United States. New York City has more than double the population of Los Angeles, the nation's second-most populous city. Over 20.1 million people live in New York City's metropolitan statistical area and 23.5 million in its combined statistical area as of 2020, both largest in the US. New York City is one of the world's most populous megacities. The city and its metropolitan area are the premier gateway for legal immigration to the United States. As many as 800 languages are spoken in New York City, making it the most linguistically diverse city in the world. In 2021, the city was home to nearly 3.1 million residents who were born outside the US, the largest foreign-born city population in the world.\n",
      "New York City traces its origins to Fort Amsterdam and a trading post founded on Manhattan Island by Dutch colonists around 1624. The settlement was named New Amsterdam in 1626 and was chartered as a city in 1653. The city came under English control in 1664 and was temporarily renamed New York after King Charles II granted the lands to his brother, the Duke of York, before being permanently renamed New York in 1674. Following independence from Great Britain, the city was the national capital of the United States from 1785 until 1790. The modern city was formed by the 1898 consolidation of its five boroughs: Manhattan, Brooklyn, Queens, the Bronx, and Staten Island.\n",
      "Anchored by Wall Street in the Financial District, Manhattan, New York City has been called both the world's premier financial and fintech center and the most economically powerful city in the world. As of 2022, the New York metropolitan area is the largest metropolitan economy in the world, with a gross metropolitan product of over US$2.16 trillion. The New York metropolitan area's economy is larger than all but nine countries. Despite having a 24/7 rapid transit system, New York also leads the world in urban automobile traffic congestion. The city is home to the world's two largest stock exchanges by market capitalization of their listed companies: the New York Stock Exchange and Nasdaq. New York City is an established safe haven for global investors. As of 2025, New York City is the most expensive city in the world for expatriates and has by a wide margin the highest residential rents of any city in the nation. Fifth Avenue is the most expensive shopping street in the world. New York City is home to the highest number of billionaires,   individuals of ultra-high net worth (greater than US$30 million), and millionaires of any city in the world by a significant margin.\n",
      "\n",
      "Brooklyn is the most populous of the five boroughs of New York City, coextensive with Kings County, in the U.S. state of New York. Located at the westernmost end of Long Island and formerly an independent city, Brooklyn shares a land border with the borough and county of Queens. It has several bridge and tunnel connections to the borough of Manhattan, across the East River (most famously, the architecturally significant Brooklyn Bridge), and is connected to Staten Island by way of the Verrazzano-Narrows Bridge.\n",
      "The borough (as Kings County), at 37,339.9 inhabitants per square mile (14,417.0/km2), is the second most densely populated county in the U.S. after Manhattan (New York County), and the most populous county in the state, as of 2022. As of the 2020 United States census, the population stood at 2,736,074. Had Brooklyn remained an independent city on Long Island, it would now be the fourth most populous American city after the rest of New York City, Los Angeles, and Chicago, while ahead of Houston. With a land area of 69.38 square miles (179.7 km2) and a water area of 27.48 square miles (71.2 km2), Kings County, one of the twelve original counties established under British rule in 1683 in the then-province of New York, is the state of New York's fourth-smallest county by land area and third smallest by total area.\n",
      "Brooklyn, named after the Dutch town of Breukelen in the Netherlands, was founded by the Dutch in the 17th century and grew into a busy port city on New York Harbor by the 19th century. On January 1, 1898, after a long political campaign and public-relations battle during the 1890s and despite opposition from Brooklyn residents, Brooklyn was consolidated in and annexed (along with other areas) to form the current five-borough structure of New York City in accordance to the new municipal charter of \"Greater New York\". The borough continues to maintain some distinct culture. Many Brooklyn neighborhoods are ethnic enclaves. With Jews forming around a quarter of its population, the borough has been described as \"the most Jewish spot on Earth\". Brooklyn's official motto, displayed on the borough seal and flag, is Eendraght Maeckt Maght, which translates from early modern Dutch as 'Unity makes strength'.\n",
      "Educational institutions in Brooklyn include the City University of New York's Brooklyn College, Medgar Evers College, and College of Technology, as well as Long Island University and the New York University Tandon School of Engineering. In sports, basketball's Brooklyn Nets, and New York Liberty play at the Barclays Center. In the first decades of the 21st century, Brooklyn has experienced a renaissance as a destination for hipsters, with concomitant gentrification, dramatic house-price increases, and a decrease in housing affordability. Some new developments are required to include affordable housing units. Since the 2010s, parts of Brooklyn have evolved into a hub of entrepreneurship, high-technology startup firms, postmodern art, and design.\n",
      "\n",
      "New York City is sometimes referred to collectively as the Five Boroughs. Each borough is coextensive with a respective county of New York State, making New York City one of the U.S. municipalities in multiple counties.\n",
      "Manhattan (New York County) is the geographically smallest and most densely populated borough. It is home to Central Park and most of the city's skyscrapers, and is sometimes locally known as The City. Manhattan's population density of 70,450.8 inhabitants per square mile (27,201.2/km2) in 2022 makes it the highest of any county in the United States and higher than the density of any individual American city. Manhattan is the cultural, administrative, and financial center of New York City and contains the headquarters of many major multinational corporations, the United Nations headquarters, Wall Street, and a number of important universities. The borough is often described as the financial and cultural center of the world.\n",
      "Brooklyn (Kings County), on the western tip of Long Island, is the city's most populous borough. Brooklyn is known for its cultural, social, and ethnic diversity, an independent art scene, distinct neighborhoods, and a distinctive architectural heritage. Downtown Brooklyn is the largest central core neighborhood in the Outer Boroughs. The borough has a long beachfront shoreline including Coney Island, established in the 1870s as one of the earliest amusement grounds in the United States Marine Park and Prospect Park are the two largest parks in Brooklyn. Since 2010, Brooklyn has evolved into a thriving hub of entrepreneurship and high technology startup firms, and of postmodern art and design. Brooklyn is also home to Fort Hamilton, the U.S. military's only active duty installation within New York City, aside from Coast Guard operations. The facility was established in 1825 on the site of a battery used during the American Revolution, and it is one of America's longest-serving military forts.\n",
      "Queens (Queens County), on Long Island north and east of Brooklyn, is geographically the largest borough, the most ethnically diverse county in the United States, and the most ethnically diverse urban area in the world. Queens is the site of the Citi Field, home of the New York Mets, and hosts the annual US Open tennis tournament at the USTA Billie Jean King National Tennis Center in Flushing Meadows–Corona Park, with plans to build Etihad Park, a soccer-specific stadium for New York City FC. Additionally, two of the three busiest airports serving the New York metropolitan area, John F. Kennedy International Airport and LaGuardia Airport, are in Queens.\n",
      "The Bronx (Bronx County) is both New York City's northernmost borough and the only one that is mostly on the U.S. mainland. It is the location of Yankee Stadium, the baseball park of the New York Yankees, and home to the largest cooperatively-owned housing complex in the United States, Co-op City. It is home to the Bronx Zoo, the world's largest metropolitan zoo, which spans 265 acres (1.07 km2) and houses more than 6,000 animals. The Bronx is the birthplace of hip hop music and its associated culture. Pelham Bay Park is the largest park in New York City, at 2,772 acres (1,122 ha).\n",
      "Staten Island (Richmond County) is the most suburban in character of the five boroughs. It is connected to Brooklyn by the Verrazzano-Narrows Bridge, and to Manhattan by way of the free Staten Island Ferry. In central Staten Island, the Staten Island Greenbelt spans approximately 2,500 acres (10 km2), including 28 miles (45 km) of walking trails and one of the last undisturbed forests in the city. Designated in 1984 to protect the island's natural lands, the Greenbelt comprises seven city parks.\n"
     ]
    }
   ],
   "source": [
    "input_q(\"what is the total land area of New York City?\")"
   ]
  },
  {
   "cell_type": "code",
   "execution_count": null,
   "id": "3d7f07ab",
   "metadata": {},
   "outputs": [],
   "source": []
  }
 ],
 "metadata": {
  "kernelspec": {
   "display_name": "Python 3",
   "language": "python",
   "name": "python3"
  },
  "language_info": {
   "codemirror_mode": {
    "name": "ipython",
    "version": 3
   },
   "file_extension": ".py",
   "mimetype": "text/x-python",
   "name": "python",
   "nbconvert_exporter": "python",
   "pygments_lexer": "ipython3",
   "version": "3.10.12"
  }
 },
 "nbformat": 4,
 "nbformat_minor": 5
}
